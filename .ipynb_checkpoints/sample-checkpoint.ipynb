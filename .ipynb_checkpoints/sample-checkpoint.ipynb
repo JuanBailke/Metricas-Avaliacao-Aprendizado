{
 "cells": [
  {
   "metadata": {},
   "cell_type": "markdown",
   "source": [
    "# Cálculo de Métricas de Avaliação de Aprendizado\n",
    "\n",
    "Neste desafio proposto vamos calcular as principais métricas para avaliação de modelos de classificação de dados, como acurácia sensibilidade (recall), especificidade, precisão e F-score.\n",
    "\n",
    "Para a leitura dos valores de VP, VN, FP e FN, utilizaremos a matriz confusão abaixo, baseada em valores de e-mails lidos como SPAM ou não."
   ],
   "id": "8a77807f92f26ee"
  },
  {
   "metadata": {
    "ExecuteTime": {
     "end_time": "2025-09-15T21:55:43.211803Z",
     "start_time": "2025-09-15T21:55:43.128200Z"
    }
   },
   "cell_type": "code",
   "source": [
    "from sklearn.metrics import confusion_matrix\n",
    "import seaborn as sns\n",
    "import matplotlib.pyplot as plt"
   ],
   "id": "fbc121e30a2defb3",
   "outputs": [],
   "execution_count": 1
  },
  {
   "metadata": {
    "ExecuteTime": {
     "end_time": "2025-09-15T21:55:43.221297Z",
     "start_time": "2025-09-15T21:55:43.218129Z"
    }
   },
   "cell_type": "code",
   "source": [
    "# Suponha que você tenha os seguintes dados:\n",
    "# y_real: As classes verdadeiras (ex: [1, 0, 1, 1, 0, 1])\n",
    "# y_previsto: As classes previstas pelo seu modelo (ex: [1, 0, 0, 1, 0, 1])\n",
    "\n",
    "# Exemplo de dados\n",
    "y_real = [1, 0, 0, 1, 0, 1, 0, 1, 1, 0, 1, 0, 1, 0, 1, 1, 0, 0, 1, 0, 1, 1, 1, 0, 0, 1, 0, 1, 0, 0, 1, 1, 0, 1, 0, 1, 0, 1, 1, 0, 0, 1, 1, 0, 1, 0, 0, 1, 1, 0] # 1=Spam, 0=Não Spam\n",
    "y_previsto = [1, 0, 1, 1, 0, 0, 0, 1, 0, 0, 1, 1, 1, 0, 1, 0, 0, 1, 1, 0, 1, 1, 0, 0, 1, 1, 0, 1, 1, 0, 1, 0, 0, 1, 0, 1, 0, 0, 1, 1, 0, 1, 1, 0, 0, 1, 0, 1, 0, 0]"
   ],
   "id": "1dc1950299e04c45",
   "outputs": [],
   "execution_count": 2
  },
  {
   "metadata": {
    "ExecuteTime": {
     "end_time": "2025-09-15T21:55:43.237312Z",
     "start_time": "2025-09-15T21:55:43.233050Z"
    }
   },
   "cell_type": "code",
   "source": [
    "# Gerar a matriz de confusão\n",
    "matriz = confusion_matrix(y_real, y_previsto)\n",
    "\n",
    "print(\"Matriz de Confusão:\")\n",
    "print(matriz)"
   ],
   "id": "292895638b4d2e1c",
   "outputs": [
    {
     "name": "stdout",
     "output_type": "stream",
     "text": [
      "Matriz de Confusão:\n",
      "[[17  7]\n",
      " [ 8 18]]\n"
     ]
    }
   ],
   "execution_count": 3
  },
  {
   "metadata": {
    "ExecuteTime": {
     "end_time": "2025-09-15T21:55:43.351555Z",
     "start_time": "2025-09-15T21:55:43.271204Z"
    }
   },
   "cell_type": "code",
   "source": [
    "# Para visualizar de forma mais clara\n",
    "sns.heatmap(matriz, annot=True, fmt='g', cmap='Blues')\n",
    "plt.xlabel('Previsto')\n",
    "plt.ylabel('Real')\n",
    "plt.show()"
   ],
   "id": "55bad5abf6146871",
   "outputs": [
    {
     "data": {
      "text/plain": [
       "<Figure size 640x480 with 2 Axes>"
      ],
      "image/png": "[encoded data removed]"
     },
     "metadata": {},
     "output_type": "display_data",
     "jetTransient": {
      "display_id": null
     }
    }
   ],
   "execution_count": 4
  }
 ],
 "metadata": {
  "kernelspec": {
   "display_name": "Python 3",
   "language": "python",
   "name": "python3"
  },
  "language_info": {
   "codemirror_mode": {
    "name": "ipython",
    "version": 2
   },
   "file_extension": ".py",
   "mimetype": "text/x-python",
   "name": "python",
   "nbconvert_exporter": "python",
   "pygments_lexer": "ipython2",
   "version": "2.7.6"
  }
 },
 "nbformat": 4,
 "nbformat_minor": 5
}
